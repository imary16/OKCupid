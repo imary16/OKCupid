{
 "cells": [
  {
   "cell_type": "code",
   "execution_count": 1,
   "metadata": {},
   "outputs": [],
   "source": [
    "import numpy as np\n",
    "import pandas as pd\n",
    "\n",
    "from matplotlib import pyplot as plt\n",
    "import seaborn as sns\n",
    "\n",
    "plt.rcParams['figure.figsize'] = [6, 6]\n",
    "%matplotlib inline\n",
    "\n",
    "import warnings\n",
    "warnings.filterwarnings('ignore')"
   ]
  },
  {
   "cell_type": "code",
   "execution_count": 57,
   "metadata": {},
   "outputs": [],
   "source": [
    "from sklearn.model_selection import train_test_split\n",
    "from sklearn.linear_model import LogisticRegression\n",
    "from sklearn.tree import DecisionTreeClassifier\n",
    "from sklearn.neighbors import KNeighborsClassifier\n",
    "from sklearn.metrics import classification_report\n",
    "from sklearn.metrics import confusion_matrix \n",
    "from sklearn.model_selection import KFold\n",
    "from sklearn.model_selection import cross_val_score\n",
    "from sklearn.datasets import make_classification \n",
    "from imblearn.under_sampling import EditedNearestNeighbours "
   ]
  },
  {
   "cell_type": "code",
   "execution_count": 3,
   "metadata": {
    "scrolled": true
   },
   "outputs": [],
   "source": [
    "import imblearn\n",
    "from imblearn.under_sampling import NearMiss\n",
    "from imblearn.over_sampling import RandomOverSampler\n",
    "from imblearn.combine import SMOTETomek\n",
    "from imblearn.ensemble import BalancedBaggingClassifier\n",
    "from imblearn.over_sampling import SMOTE"
   ]
  },
  {
   "cell_type": "code",
   "execution_count": 4,
   "metadata": {},
   "outputs": [
    {
     "data": {
      "text/html": [
       "<div>\n",
       "<style scoped>\n",
       "    .dataframe tbody tr th:only-of-type {\n",
       "        vertical-align: middle;\n",
       "    }\n",
       "\n",
       "    .dataframe tbody tr th {\n",
       "        vertical-align: top;\n",
       "    }\n",
       "\n",
       "    .dataframe thead th {\n",
       "        text-align: right;\n",
       "    }\n",
       "</style>\n",
       "<table border=\"1\" class=\"dataframe\">\n",
       "  <thead>\n",
       "    <tr style=\"text-align: right;\">\n",
       "      <th></th>\n",
       "      <th>age</th>\n",
       "      <th>body_type</th>\n",
       "      <th>diet</th>\n",
       "      <th>drinks</th>\n",
       "      <th>drugs</th>\n",
       "      <th>education</th>\n",
       "      <th>essay0</th>\n",
       "      <th>essay1</th>\n",
       "      <th>essay2</th>\n",
       "      <th>essay3</th>\n",
       "      <th>...</th>\n",
       "      <th>location</th>\n",
       "      <th>offspring</th>\n",
       "      <th>orientation</th>\n",
       "      <th>pets</th>\n",
       "      <th>religion</th>\n",
       "      <th>sex</th>\n",
       "      <th>sign</th>\n",
       "      <th>smokes</th>\n",
       "      <th>speaks</th>\n",
       "      <th>status</th>\n",
       "    </tr>\n",
       "  </thead>\n",
       "  <tbody>\n",
       "    <tr>\n",
       "      <th>0</th>\n",
       "      <td>22</td>\n",
       "      <td>a little extra</td>\n",
       "      <td>strictly anything</td>\n",
       "      <td>socially</td>\n",
       "      <td>never</td>\n",
       "      <td>working on college/university</td>\n",
       "      <td>about me:&lt;br /&gt;\\n&lt;br /&gt;\\ni would love to think...</td>\n",
       "      <td>currently working as an international agent fo...</td>\n",
       "      <td>making people laugh.&lt;br /&gt;\\nranting about a go...</td>\n",
       "      <td>the way i look. i am a six foot half asian, ha...</td>\n",
       "      <td>...</td>\n",
       "      <td>south san francisco, california</td>\n",
       "      <td>doesn&amp;rsquo;t have kids, but might want them</td>\n",
       "      <td>straight</td>\n",
       "      <td>likes dogs and likes cats</td>\n",
       "      <td>agnosticism and very serious about it</td>\n",
       "      <td>m</td>\n",
       "      <td>gemini</td>\n",
       "      <td>sometimes</td>\n",
       "      <td>english</td>\n",
       "      <td>single</td>\n",
       "    </tr>\n",
       "    <tr>\n",
       "      <th>1</th>\n",
       "      <td>35</td>\n",
       "      <td>average</td>\n",
       "      <td>mostly other</td>\n",
       "      <td>often</td>\n",
       "      <td>sometimes</td>\n",
       "      <td>working on space camp</td>\n",
       "      <td>i am a chef: this is what that means.&lt;br /&gt;\\n1...</td>\n",
       "      <td>dedicating everyday to being an unbelievable b...</td>\n",
       "      <td>being silly. having ridiculous amonts of fun w...</td>\n",
       "      <td>NaN</td>\n",
       "      <td>...</td>\n",
       "      <td>oakland, california</td>\n",
       "      <td>doesn&amp;rsquo;t have kids, but might want them</td>\n",
       "      <td>straight</td>\n",
       "      <td>likes dogs and likes cats</td>\n",
       "      <td>agnosticism but not too serious about it</td>\n",
       "      <td>m</td>\n",
       "      <td>cancer</td>\n",
       "      <td>no</td>\n",
       "      <td>english (fluently), spanish (poorly), french (...</td>\n",
       "      <td>single</td>\n",
       "    </tr>\n",
       "    <tr>\n",
       "      <th>2</th>\n",
       "      <td>38</td>\n",
       "      <td>thin</td>\n",
       "      <td>anything</td>\n",
       "      <td>socially</td>\n",
       "      <td>NaN</td>\n",
       "      <td>graduated from masters program</td>\n",
       "      <td>i'm not ashamed of much, but writing public te...</td>\n",
       "      <td>i make nerdy software for musicians, artists, ...</td>\n",
       "      <td>improvising in different contexts. alternating...</td>\n",
       "      <td>my large jaw and large glasses are the physica...</td>\n",
       "      <td>...</td>\n",
       "      <td>san francisco, california</td>\n",
       "      <td>NaN</td>\n",
       "      <td>straight</td>\n",
       "      <td>has cats</td>\n",
       "      <td>NaN</td>\n",
       "      <td>m</td>\n",
       "      <td>pisces but it doesn&amp;rsquo;t matter</td>\n",
       "      <td>no</td>\n",
       "      <td>english, french, c++</td>\n",
       "      <td>available</td>\n",
       "    </tr>\n",
       "    <tr>\n",
       "      <th>3</th>\n",
       "      <td>23</td>\n",
       "      <td>thin</td>\n",
       "      <td>vegetarian</td>\n",
       "      <td>socially</td>\n",
       "      <td>NaN</td>\n",
       "      <td>working on college/university</td>\n",
       "      <td>i work in a library and go to school. . .</td>\n",
       "      <td>reading things written by old dead people</td>\n",
       "      <td>playing synthesizers and organizing books acco...</td>\n",
       "      <td>socially awkward but i do my best</td>\n",
       "      <td>...</td>\n",
       "      <td>berkeley, california</td>\n",
       "      <td>doesn&amp;rsquo;t want kids</td>\n",
       "      <td>straight</td>\n",
       "      <td>likes cats</td>\n",
       "      <td>NaN</td>\n",
       "      <td>m</td>\n",
       "      <td>pisces</td>\n",
       "      <td>no</td>\n",
       "      <td>english, german (poorly)</td>\n",
       "      <td>single</td>\n",
       "    </tr>\n",
       "    <tr>\n",
       "      <th>4</th>\n",
       "      <td>29</td>\n",
       "      <td>athletic</td>\n",
       "      <td>NaN</td>\n",
       "      <td>socially</td>\n",
       "      <td>never</td>\n",
       "      <td>graduated from college/university</td>\n",
       "      <td>hey how's it going? currently vague on the pro...</td>\n",
       "      <td>work work work work + play</td>\n",
       "      <td>creating imagery to look at:&lt;br /&gt;\\nhttp://bag...</td>\n",
       "      <td>i smile a lot and my inquisitive nature</td>\n",
       "      <td>...</td>\n",
       "      <td>san francisco, california</td>\n",
       "      <td>NaN</td>\n",
       "      <td>straight</td>\n",
       "      <td>likes dogs and likes cats</td>\n",
       "      <td>NaN</td>\n",
       "      <td>m</td>\n",
       "      <td>aquarius</td>\n",
       "      <td>no</td>\n",
       "      <td>english</td>\n",
       "      <td>single</td>\n",
       "    </tr>\n",
       "  </tbody>\n",
       "</table>\n",
       "<p>5 rows × 31 columns</p>\n",
       "</div>"
      ],
      "text/plain": [
       "   age       body_type               diet    drinks      drugs  \\\n",
       "0   22  a little extra  strictly anything  socially      never   \n",
       "1   35         average       mostly other     often  sometimes   \n",
       "2   38            thin           anything  socially        NaN   \n",
       "3   23            thin         vegetarian  socially        NaN   \n",
       "4   29        athletic                NaN  socially      never   \n",
       "\n",
       "                           education  \\\n",
       "0      working on college/university   \n",
       "1              working on space camp   \n",
       "2     graduated from masters program   \n",
       "3      working on college/university   \n",
       "4  graduated from college/university   \n",
       "\n",
       "                                              essay0  \\\n",
       "0  about me:<br />\\n<br />\\ni would love to think...   \n",
       "1  i am a chef: this is what that means.<br />\\n1...   \n",
       "2  i'm not ashamed of much, but writing public te...   \n",
       "3          i work in a library and go to school. . .   \n",
       "4  hey how's it going? currently vague on the pro...   \n",
       "\n",
       "                                              essay1  \\\n",
       "0  currently working as an international agent fo...   \n",
       "1  dedicating everyday to being an unbelievable b...   \n",
       "2  i make nerdy software for musicians, artists, ...   \n",
       "3          reading things written by old dead people   \n",
       "4                         work work work work + play   \n",
       "\n",
       "                                              essay2  \\\n",
       "0  making people laugh.<br />\\nranting about a go...   \n",
       "1  being silly. having ridiculous amonts of fun w...   \n",
       "2  improvising in different contexts. alternating...   \n",
       "3  playing synthesizers and organizing books acco...   \n",
       "4  creating imagery to look at:<br />\\nhttp://bag...   \n",
       "\n",
       "                                              essay3  ...  \\\n",
       "0  the way i look. i am a six foot half asian, ha...  ...   \n",
       "1                                                NaN  ...   \n",
       "2  my large jaw and large glasses are the physica...  ...   \n",
       "3                  socially awkward but i do my best  ...   \n",
       "4            i smile a lot and my inquisitive nature  ...   \n",
       "\n",
       "                          location  \\\n",
       "0  south san francisco, california   \n",
       "1              oakland, california   \n",
       "2        san francisco, california   \n",
       "3             berkeley, california   \n",
       "4        san francisco, california   \n",
       "\n",
       "                                      offspring orientation  \\\n",
       "0  doesn&rsquo;t have kids, but might want them    straight   \n",
       "1  doesn&rsquo;t have kids, but might want them    straight   \n",
       "2                                           NaN    straight   \n",
       "3                       doesn&rsquo;t want kids    straight   \n",
       "4                                           NaN    straight   \n",
       "\n",
       "                        pets                                  religion sex  \\\n",
       "0  likes dogs and likes cats     agnosticism and very serious about it   m   \n",
       "1  likes dogs and likes cats  agnosticism but not too serious about it   m   \n",
       "2                   has cats                                       NaN   m   \n",
       "3                 likes cats                                       NaN   m   \n",
       "4  likes dogs and likes cats                                       NaN   m   \n",
       "\n",
       "                                 sign     smokes  \\\n",
       "0                              gemini  sometimes   \n",
       "1                              cancer         no   \n",
       "2  pisces but it doesn&rsquo;t matter         no   \n",
       "3                              pisces         no   \n",
       "4                            aquarius         no   \n",
       "\n",
       "                                              speaks     status  \n",
       "0                                            english     single  \n",
       "1  english (fluently), spanish (poorly), french (...     single  \n",
       "2                               english, french, c++  available  \n",
       "3                           english, german (poorly)     single  \n",
       "4                                            english     single  \n",
       "\n",
       "[5 rows x 31 columns]"
      ]
     },
     "execution_count": 4,
     "metadata": {},
     "output_type": "execute_result"
    }
   ],
   "source": [
    "profiles = pd.read_csv('profiles.csv', encoding='utf-8')\n",
    "profiles.head()"
   ]
  },
  {
   "cell_type": "code",
   "execution_count": 5,
   "metadata": {},
   "outputs": [
    {
     "name": "stdout",
     "output_type": "stream",
     "text": [
      "Número de categorias de educación: 32\n"
     ]
    },
    {
     "data": {
      "text/plain": [
       "education\n",
       "college/university                     801\n",
       "dropped out of college/university      995\n",
       "dropped out of high school             102\n",
       "dropped out of law school               18\n",
       "dropped out of masters program         140\n",
       "dropped out of med school               12\n",
       "dropped out of ph.d program            127\n",
       "dropped out of space camp              523\n",
       "dropped out of two-year college        191\n",
       "graduated from college/university    23959\n",
       "graduated from high school            1428\n",
       "graduated from law school             1122\n",
       "graduated from masters program        8961\n",
       "graduated from med school              446\n",
       "graduated from ph.d program           1272\n",
       "graduated from space camp              657\n",
       "graduated from two-year college       1531\n",
       "high school                             96\n",
       "law school                              19\n",
       "masters program                        136\n",
       "med school                              11\n",
       "ph.d program                            26\n",
       "space camp                              58\n",
       "two-year college                       222\n",
       "working on college/university         5712\n",
       "working on high school                  87\n",
       "working on law school                  269\n",
       "working on masters program            1683\n",
       "working on med school                  212\n",
       "working on ph.d program                983\n",
       "working on space camp                  445\n",
       "working on two-year college           1074\n",
       "Name: education, dtype: int64"
      ]
     },
     "execution_count": 5,
     "metadata": {},
     "output_type": "execute_result"
    }
   ],
   "source": [
    "print(\"Número de categorias de educación:\",profiles.education.nunique())\n",
    "profiles.groupby('education').education.count()"
   ]
  },
  {
   "cell_type": "code",
   "execution_count": 6,
   "metadata": {},
   "outputs": [
    {
     "name": "stdout",
     "output_type": "stream",
     "text": [
      "Número de categorias de trabajos: 21\n"
     ]
    },
    {
     "data": {
      "text/plain": [
       "job\n",
       "artistic / musical / writer          4439\n",
       "banking / financial / real estate    2266\n",
       "clerical / administrative             805\n",
       "computer / hardware / software       4709\n",
       "construction / craftsmanship         1021\n",
       "education / academia                 3513\n",
       "entertainment / media                2250\n",
       "executive / management               2373\n",
       "hospitality / travel                 1364\n",
       "law / legal services                 1381\n",
       "medicine / health                    3680\n",
       "military                              204\n",
       "other                                7589\n",
       "political / government                708\n",
       "rather not say                        436\n",
       "retired                               250\n",
       "sales / marketing / biz dev          4391\n",
       "science / tech / engineering         4848\n",
       "student                              4882\n",
       "transportation                        366\n",
       "unemployed                            273\n",
       "Name: job, dtype: int64"
      ]
     },
     "execution_count": 6,
     "metadata": {},
     "output_type": "execute_result"
    }
   ],
   "source": [
    "print(\"Número de categorias de trabajos:\",profiles.job.nunique())\n",
    "profiles.groupby('job').job.count()"
   ]
  },
  {
   "cell_type": "code",
   "execution_count": 7,
   "metadata": {},
   "outputs": [
    {
     "data": {
      "text/html": [
       "<div>\n",
       "<style scoped>\n",
       "    .dataframe tbody tr th:only-of-type {\n",
       "        vertical-align: middle;\n",
       "    }\n",
       "\n",
       "    .dataframe tbody tr th {\n",
       "        vertical-align: top;\n",
       "    }\n",
       "\n",
       "    .dataframe thead th {\n",
       "        text-align: right;\n",
       "    }\n",
       "</style>\n",
       "<table border=\"1\" class=\"dataframe\">\n",
       "  <thead>\n",
       "    <tr style=\"text-align: right;\">\n",
       "      <th></th>\n",
       "      <th>sex</th>\n",
       "      <th>age</th>\n",
       "      <th>education</th>\n",
       "      <th>job</th>\n",
       "      <th>orientation</th>\n",
       "      <th>income</th>\n",
       "    </tr>\n",
       "  </thead>\n",
       "  <tbody>\n",
       "    <tr>\n",
       "      <th>0</th>\n",
       "      <td>m</td>\n",
       "      <td>22</td>\n",
       "      <td>working on college/university</td>\n",
       "      <td>transportation</td>\n",
       "      <td>straight</td>\n",
       "      <td>-1</td>\n",
       "    </tr>\n",
       "    <tr>\n",
       "      <th>1</th>\n",
       "      <td>m</td>\n",
       "      <td>35</td>\n",
       "      <td>working on space camp</td>\n",
       "      <td>hospitality / travel</td>\n",
       "      <td>straight</td>\n",
       "      <td>80000</td>\n",
       "    </tr>\n",
       "    <tr>\n",
       "      <th>3</th>\n",
       "      <td>m</td>\n",
       "      <td>23</td>\n",
       "      <td>working on college/university</td>\n",
       "      <td>student</td>\n",
       "      <td>straight</td>\n",
       "      <td>20000</td>\n",
       "    </tr>\n",
       "    <tr>\n",
       "      <th>4</th>\n",
       "      <td>m</td>\n",
       "      <td>29</td>\n",
       "      <td>graduated from college/university</td>\n",
       "      <td>artistic / musical / writer</td>\n",
       "      <td>straight</td>\n",
       "      <td>-1</td>\n",
       "    </tr>\n",
       "    <tr>\n",
       "      <th>5</th>\n",
       "      <td>m</td>\n",
       "      <td>29</td>\n",
       "      <td>graduated from college/university</td>\n",
       "      <td>computer / hardware / software</td>\n",
       "      <td>straight</td>\n",
       "      <td>-1</td>\n",
       "    </tr>\n",
       "  </tbody>\n",
       "</table>\n",
       "</div>"
      ],
      "text/plain": [
       "  sex  age                          education                             job  \\\n",
       "0   m   22      working on college/university                  transportation   \n",
       "1   m   35              working on space camp            hospitality / travel   \n",
       "3   m   23      working on college/university                         student   \n",
       "4   m   29  graduated from college/university     artistic / musical / writer   \n",
       "5   m   29  graduated from college/university  computer / hardware / software   \n",
       "\n",
       "  orientation  income  \n",
       "0    straight      -1  \n",
       "1    straight   80000  \n",
       "3    straight   20000  \n",
       "4    straight      -1  \n",
       "5    straight      -1  "
      ]
     },
     "execution_count": 7,
     "metadata": {},
     "output_type": "execute_result"
    }
   ],
   "source": [
    "cols = ['sex', 'age', 'education', 'job', 'orientation', 'income']\n",
    "df = profiles[cols].dropna() #dataframe con el que se trabajará, limpio\n",
    "df.head()"
   ]
  },
  {
   "cell_type": "code",
   "execution_count": 8,
   "metadata": {},
   "outputs": [
    {
     "data": {
      "text/html": [
       "<div>\n",
       "<style scoped>\n",
       "    .dataframe tbody tr th:only-of-type {\n",
       "        vertical-align: middle;\n",
       "    }\n",
       "\n",
       "    .dataframe tbody tr th {\n",
       "        vertical-align: top;\n",
       "    }\n",
       "\n",
       "    .dataframe thead th {\n",
       "        text-align: right;\n",
       "    }\n",
       "</style>\n",
       "<table border=\"1\" class=\"dataframe\">\n",
       "  <thead>\n",
       "    <tr style=\"text-align: right;\">\n",
       "      <th></th>\n",
       "      <th>income</th>\n",
       "      <th>sex_f</th>\n",
       "      <th>sex_m</th>\n",
       "      <th>age_18</th>\n",
       "      <th>age_19</th>\n",
       "      <th>age_20</th>\n",
       "      <th>age_21</th>\n",
       "      <th>age_22</th>\n",
       "      <th>age_23</th>\n",
       "      <th>age_24</th>\n",
       "      <th>...</th>\n",
       "      <th>job_rather not say</th>\n",
       "      <th>job_retired</th>\n",
       "      <th>job_sales / marketing / biz dev</th>\n",
       "      <th>job_science / tech / engineering</th>\n",
       "      <th>job_student</th>\n",
       "      <th>job_transportation</th>\n",
       "      <th>job_unemployed</th>\n",
       "      <th>orientation_bisexual</th>\n",
       "      <th>orientation_gay</th>\n",
       "      <th>orientation_straight</th>\n",
       "    </tr>\n",
       "  </thead>\n",
       "  <tbody>\n",
       "    <tr>\n",
       "      <th>0</th>\n",
       "      <td>-1</td>\n",
       "      <td>0</td>\n",
       "      <td>1</td>\n",
       "      <td>0</td>\n",
       "      <td>0</td>\n",
       "      <td>0</td>\n",
       "      <td>0</td>\n",
       "      <td>1</td>\n",
       "      <td>0</td>\n",
       "      <td>0</td>\n",
       "      <td>...</td>\n",
       "      <td>0</td>\n",
       "      <td>0</td>\n",
       "      <td>0</td>\n",
       "      <td>0</td>\n",
       "      <td>0</td>\n",
       "      <td>1</td>\n",
       "      <td>0</td>\n",
       "      <td>0</td>\n",
       "      <td>0</td>\n",
       "      <td>1</td>\n",
       "    </tr>\n",
       "    <tr>\n",
       "      <th>1</th>\n",
       "      <td>80000</td>\n",
       "      <td>0</td>\n",
       "      <td>1</td>\n",
       "      <td>0</td>\n",
       "      <td>0</td>\n",
       "      <td>0</td>\n",
       "      <td>0</td>\n",
       "      <td>0</td>\n",
       "      <td>0</td>\n",
       "      <td>0</td>\n",
       "      <td>...</td>\n",
       "      <td>0</td>\n",
       "      <td>0</td>\n",
       "      <td>0</td>\n",
       "      <td>0</td>\n",
       "      <td>0</td>\n",
       "      <td>0</td>\n",
       "      <td>0</td>\n",
       "      <td>0</td>\n",
       "      <td>0</td>\n",
       "      <td>1</td>\n",
       "    </tr>\n",
       "    <tr>\n",
       "      <th>3</th>\n",
       "      <td>20000</td>\n",
       "      <td>0</td>\n",
       "      <td>1</td>\n",
       "      <td>0</td>\n",
       "      <td>0</td>\n",
       "      <td>0</td>\n",
       "      <td>0</td>\n",
       "      <td>0</td>\n",
       "      <td>1</td>\n",
       "      <td>0</td>\n",
       "      <td>...</td>\n",
       "      <td>0</td>\n",
       "      <td>0</td>\n",
       "      <td>0</td>\n",
       "      <td>0</td>\n",
       "      <td>1</td>\n",
       "      <td>0</td>\n",
       "      <td>0</td>\n",
       "      <td>0</td>\n",
       "      <td>0</td>\n",
       "      <td>1</td>\n",
       "    </tr>\n",
       "    <tr>\n",
       "      <th>4</th>\n",
       "      <td>-1</td>\n",
       "      <td>0</td>\n",
       "      <td>1</td>\n",
       "      <td>0</td>\n",
       "      <td>0</td>\n",
       "      <td>0</td>\n",
       "      <td>0</td>\n",
       "      <td>0</td>\n",
       "      <td>0</td>\n",
       "      <td>0</td>\n",
       "      <td>...</td>\n",
       "      <td>0</td>\n",
       "      <td>0</td>\n",
       "      <td>0</td>\n",
       "      <td>0</td>\n",
       "      <td>0</td>\n",
       "      <td>0</td>\n",
       "      <td>0</td>\n",
       "      <td>0</td>\n",
       "      <td>0</td>\n",
       "      <td>1</td>\n",
       "    </tr>\n",
       "    <tr>\n",
       "      <th>5</th>\n",
       "      <td>-1</td>\n",
       "      <td>0</td>\n",
       "      <td>1</td>\n",
       "      <td>0</td>\n",
       "      <td>0</td>\n",
       "      <td>0</td>\n",
       "      <td>0</td>\n",
       "      <td>0</td>\n",
       "      <td>0</td>\n",
       "      <td>0</td>\n",
       "      <td>...</td>\n",
       "      <td>0</td>\n",
       "      <td>0</td>\n",
       "      <td>0</td>\n",
       "      <td>0</td>\n",
       "      <td>0</td>\n",
       "      <td>0</td>\n",
       "      <td>0</td>\n",
       "      <td>0</td>\n",
       "      <td>0</td>\n",
       "      <td>1</td>\n",
       "    </tr>\n",
       "  </tbody>\n",
       "</table>\n",
       "<p>5 rows × 112 columns</p>\n",
       "</div>"
      ],
      "text/plain": [
       "   income  sex_f  sex_m  age_18  age_19  age_20  age_21  age_22  age_23  \\\n",
       "0      -1      0      1       0       0       0       0       1       0   \n",
       "1   80000      0      1       0       0       0       0       0       0   \n",
       "3   20000      0      1       0       0       0       0       0       1   \n",
       "4      -1      0      1       0       0       0       0       0       0   \n",
       "5      -1      0      1       0       0       0       0       0       0   \n",
       "\n",
       "   age_24  ...  job_rather not say  job_retired  \\\n",
       "0       0  ...                   0            0   \n",
       "1       0  ...                   0            0   \n",
       "3       0  ...                   0            0   \n",
       "4       0  ...                   0            0   \n",
       "5       0  ...                   0            0   \n",
       "\n",
       "   job_sales / marketing / biz dev  job_science / tech / engineering  \\\n",
       "0                                0                                 0   \n",
       "1                                0                                 0   \n",
       "3                                0                                 0   \n",
       "4                                0                                 0   \n",
       "5                                0                                 0   \n",
       "\n",
       "   job_student  job_transportation  job_unemployed  orientation_bisexual  \\\n",
       "0            0                   1               0                     0   \n",
       "1            0                   0               0                     0   \n",
       "3            1                   0               0                     0   \n",
       "4            0                   0               0                     0   \n",
       "5            0                   0               0                     0   \n",
       "\n",
       "   orientation_gay  orientation_straight  \n",
       "0                0                     1  \n",
       "1                0                     1  \n",
       "3                0                     1  \n",
       "4                0                     1  \n",
       "5                0                     1  \n",
       "\n",
       "[5 rows x 112 columns]"
      ]
     },
     "execution_count": 8,
     "metadata": {},
     "output_type": "execute_result"
    }
   ],
   "source": [
    "for col in cols[:-1]:\n",
    "    df = pd.get_dummies(df, columns=[col], prefix = [col])\n",
    "df.head() #variable discreta en binario"
   ]
  },
  {
   "cell_type": "code",
   "execution_count": 9,
   "metadata": {},
   "outputs": [
    {
     "data": {
      "text/plain": [
       "-1          37639\n",
       " 20000       2733\n",
       " 100000      1497\n",
       " 80000       1008\n",
       " 30000        950\n",
       " 40000        910\n",
       " 50000        891\n",
       " 60000        677\n",
       " 70000        657\n",
       " 150000       584\n",
       " 1000000      459\n",
       " 250000       128\n",
       " 500000        42\n",
       "Name: income, dtype: int64"
      ]
     },
     "execution_count": 9,
     "metadata": {},
     "output_type": "execute_result"
    }
   ],
   "source": [
    "df.income.value_counts() #balance de los datos con los que trabajaré, que claramente están muy desbalanceados."
   ]
  },
  {
   "cell_type": "code",
   "execution_count": 10,
   "metadata": {},
   "outputs": [],
   "source": [
    "X = df.iloc[:, 1:len(df.columns)] #valores\n",
    "Y = df.iloc[:, 0:1] #etiquetas\n",
    "\n",
    "v_size = 0.3 \n",
    "\n",
    "X_train, X_test, Y_train, Y_test = train_test_split(X, Y, test_size=v_size, random_state = 0)\n",
    "\n",
    "Y_train = Y_train.to_numpy().ravel()\n",
    "Y_test = Y_test.to_numpy().ravel()"
   ]
  },
  {
   "cell_type": "code",
   "execution_count": 11,
   "metadata": {},
   "outputs": [
    {
     "name": "stdout",
     "output_type": "stream",
     "text": [
      "              precision    recall  f1-score   support\n",
      "\n",
      "          -1       0.90      0.14      0.24     26278\n",
      "       20000       0.21      0.49      0.29      1942\n",
      "       30000       0.06      0.23      0.10       690\n",
      "       40000       0.05      0.21      0.08       624\n",
      "       50000       0.06      0.16      0.09       636\n",
      "       60000       0.03      0.15      0.06       474\n",
      "       70000       0.05      0.20      0.08       459\n",
      "       80000       0.05      0.15      0.08       715\n",
      "      100000       0.10      0.30      0.15      1048\n",
      "      150000       0.06      0.32      0.09       410\n",
      "      250000       0.02      0.56      0.05        98\n",
      "      500000       0.01      0.71      0.02        31\n",
      "     1000000       0.04      0.32      0.08       317\n",
      "\n",
      "    accuracy                           0.18     33722\n",
      "   macro avg       0.13      0.30      0.11     33722\n",
      "weighted avg       0.72      0.18      0.22     33722\n",
      "\n"
     ]
    }
   ],
   "source": [
    "lr_balanced = LogisticRegression(C=1.0,penalty='l2',random_state=1,solver=\"newton-cg\",class_weight=\"balanced\",multi_class=\"multinomial\").fit(X_train, Y_train)\n",
    "lr_predictionsbal = lr_balanced.predict(X_train)\n",
    "print(classification_report(Y_train, lr_predictionsbal))"
   ]
  },
  {
   "cell_type": "code",
   "execution_count": 12,
   "metadata": {},
   "outputs": [],
   "source": [
    "sm = SMOTE(random_state = 2) \n",
    "X_trainr, y_trainr = sm.fit_sample(X_train, Y_train.ravel()) "
   ]
  },
  {
   "cell_type": "code",
   "execution_count": 13,
   "metadata": {},
   "outputs": [
    {
     "name": "stdout",
     "output_type": "stream",
     "text": [
      "              precision    recall  f1-score   support\n",
      "\n",
      "          -1       0.38      1.00      0.56     26278\n",
      "       20000       0.13      0.26      0.17     26278\n",
      "       30000       0.18      0.07      0.11     26278\n",
      "       40000       0.21      0.05      0.08     26278\n",
      "       50000       0.21      0.04      0.07     26278\n",
      "       60000       0.16      0.04      0.07     26278\n",
      "       70000       0.21      0.05      0.08     26278\n",
      "       80000       0.20      0.04      0.07     26278\n",
      "      100000       0.11      0.18      0.14     26278\n",
      "      150000       0.17      0.14      0.15     26278\n",
      "      250000       0.21      0.35      0.26     26278\n",
      "      500000       0.38      0.71      0.49     26278\n",
      "     1000000       0.23      0.19      0.21     26278\n",
      "\n",
      "    accuracy                           0.24    341614\n",
      "   macro avg       0.21      0.24      0.19    341614\n",
      "weighted avg       0.21      0.24      0.19    341614\n",
      "\n"
     ]
    }
   ],
   "source": [
    "lr_model = LogisticRegression(multi_class=\"multinomial\").fit(X_trainr, y_trainr) #entrenamiento\n",
    "lr_predictions = lr_model.predict(X_trainr) #predicción\n",
    "print(classification_report(y_trainr, lr_predictions)) #evaluación del modelo"
   ]
  },
  {
   "cell_type": "code",
   "execution_count": 14,
   "metadata": {},
   "outputs": [],
   "source": [
    "#knn_model = KNeighborsClassifier(n_neighbors = 5).fit(X_trainr, y_trainr) #entrenamiento\n",
    "#knn_predictions = knn_model.predict(X_trainr) #prediccion\n",
    "#print(classification_report(y_trainr, knn_predictions)) #eval del modelo"
   ]
  },
  {
   "cell_type": "code",
   "execution_count": 15,
   "metadata": {},
   "outputs": [
    {
     "name": "stdout",
     "output_type": "stream",
     "text": [
      "              precision    recall  f1-score   support\n",
      "\n",
      "          -1       0.80      0.75      0.77     26278\n",
      "       20000       0.88      0.94      0.91     26278\n",
      "       30000       0.90      0.95      0.92     26278\n",
      "       40000       0.91      0.94      0.92     26278\n",
      "       50000       0.90      0.92      0.91     26278\n",
      "       60000       0.89      0.90      0.90     26278\n",
      "       70000       0.90      0.90      0.90     26278\n",
      "       80000       0.87      0.86      0.86     26278\n",
      "      100000       0.84      0.84      0.84     26278\n",
      "      150000       0.92      0.89      0.90     26278\n",
      "      250000       0.95      0.93      0.94     26278\n",
      "      500000       0.98      0.98      0.98     26278\n",
      "     1000000       0.98      0.92      0.95     26278\n",
      "\n",
      "    accuracy                           0.90    341614\n",
      "   macro avg       0.90      0.90      0.90    341614\n",
      "weighted avg       0.90      0.90      0.90    341614\n",
      "\n"
     ]
    },
    {
     "data": {
      "text/plain": [
       "104"
      ]
     },
     "execution_count": 15,
     "metadata": {},
     "output_type": "execute_result"
    }
   ],
   "source": [
    "dt_model = DecisionTreeClassifier().fit(X_trainr, y_trainr) #entrenamiento\n",
    "dt_predictions = dt_model.predict(X_trainr) #prediccion\n",
    "print(classification_report(y_trainr, dt_predictions)) #eval modelo\n",
    "dt_model.get_depth() #profundidad"
   ]
  },
  {
   "cell_type": "code",
   "execution_count": 16,
   "metadata": {},
   "outputs": [],
   "source": [
    "dt_cm = confusion_matrix(y_trainr, dt_predictions) #conf mat\n",
    "dt_labels = dt_model.classes_ "
   ]
  },
  {
   "cell_type": "code",
   "execution_count": 17,
   "metadata": {},
   "outputs": [
    {
     "data": {
      "image/png": "[encoded data removed]",
      "text/plain": [
       "<Figure size 720x504 with 2 Axes>"
      ]
     },
     "metadata": {
      "needs_background": "light"
     },
     "output_type": "display_data"
    }
   ],
   "source": [
    "plt.figure(figsize=(10,7))\n",
    "\n",
    "ax= plt.subplot()\n",
    "sns.heatmap(dt_cm, annot=True, ax = ax,fmt=\"d\");\n",
    "\n",
    "ax.set_xlabel('Etiquetas Predichas');\n",
    "ax.set_ylabel('Etiquetas Reales'); \n",
    "ax.set_title('Conf Matrix');\n",
    "ax.yaxis.set_tick_params(rotation=360)\n",
    "ax.xaxis.set_tick_params(rotation=90)\n",
    "\n",
    "ax.xaxis.set_ticklabels(dt_labels); \n",
    "ax.yaxis.set_ticklabels(dt_labels);"
   ]
  },
  {
   "cell_type": "code",
   "execution_count": 19,
   "metadata": {},
   "outputs": [
    {
     "name": "stdout",
     "output_type": "stream",
     "text": [
      "[0.74231225 0.74364416 0.74294162 0.74749352 0.74617254]\n",
      "Linea Base: 74.45% +/- 0.20%)\n"
     ]
    }
   ],
   "source": [
    "kfold = KFold(n_splits=5, shuffle=True, random_state=0) #validación estadística del modelo\n",
    "\n",
    "results = cross_val_score(dt_model, X_trainr, y_trainr, cv=kfold, scoring='accuracy')\n",
    "\n",
    "print(results)\n",
    "print(\"Linea Base: %.2f%% +/- %.2f%%)\" % (results.mean()*100, results.std()*100))"
   ]
  },
  {
   "cell_type": "code",
   "execution_count": 23,
   "metadata": {},
   "outputs": [
    {
     "name": "stdout",
     "output_type": "stream",
     "text": [
      "              precision    recall  f1-score   support\n",
      "\n",
      "          -1       0.37      0.44      0.40     26278\n",
      "       20000       0.70      0.67      0.69     26278\n",
      "       30000       0.66      0.59      0.62     26278\n",
      "       40000       0.59      0.53      0.55     26278\n",
      "       50000       0.46      0.50      0.48     26278\n",
      "       60000       0.40      0.58      0.48     26278\n",
      "       70000       0.57      0.55      0.56     26278\n",
      "       80000       0.51      0.48      0.49     26278\n",
      "      100000       0.58      0.51      0.54     26278\n",
      "      150000       0.79      0.70      0.74     26278\n",
      "      250000       0.86      0.94      0.89     26278\n",
      "      500000       0.97      0.98      0.98     26278\n",
      "     1000000       0.87      0.72      0.79     26278\n",
      "\n",
      "    accuracy                           0.63    341614\n",
      "   macro avg       0.64      0.63      0.63    341614\n",
      "weighted avg       0.64      0.63      0.63    341614\n",
      "\n"
     ]
    }
   ],
   "source": [
    "cart_model20 = DecisionTreeClassifier(max_depth = 30).fit(X_trainr, y_trainr) \n",
    "cart_predictions20 = cart_model20.predict(X_trainr)\n",
    "print(classification_report(y_trainr, cart_predictions20))"
   ]
  },
  {
   "cell_type": "code",
   "execution_count": 24,
   "metadata": {},
   "outputs": [
    {
     "name": "stdout",
     "output_type": "stream",
     "text": [
      "[0.75567087 0.75878428 0.7455516  0.74955516 0.75459668]\n",
      "Baseline: 75.28% (0.20%)\n"
     ]
    }
   ],
   "source": [
    "results20 = cross_val_score(cart_model20, X_train, Y_train, cv=kfold, scoring='accuracy')\n",
    "\n",
    "print(results20)\n",
    "print(\"Baseline: %.2f%% (%.2f%%)\" % (results20.mean()*100, results.std()*100))"
   ]
  },
  {
   "cell_type": "markdown",
   "metadata": {},
   "source": [
    "# NearMiss"
   ]
  },
  {
   "cell_type": "code",
   "execution_count": 25,
   "metadata": {},
   "outputs": [],
   "source": [
    "nr = NearMiss() \n",
    "  \n",
    "X_trainm, y_trainm = nr.fit_sample(X_train, Y_train.ravel()) "
   ]
  },
  {
   "cell_type": "code",
   "execution_count": 26,
   "metadata": {},
   "outputs": [
    {
     "name": "stdout",
     "output_type": "stream",
     "text": [
      "              precision    recall  f1-score   support\n",
      "\n",
      "          -1       0.57      0.65      0.61        31\n",
      "       20000       0.77      0.77      0.77        31\n",
      "       30000       0.47      0.29      0.36        31\n",
      "       40000       0.26      0.19      0.22        31\n",
      "       50000       0.40      0.19      0.26        31\n",
      "       60000       0.33      0.26      0.29        31\n",
      "       70000       0.35      0.55      0.42        31\n",
      "       80000       0.25      0.58      0.35        31\n",
      "      100000       0.41      0.23      0.29        31\n",
      "      150000       0.49      0.68      0.57        31\n",
      "      250000       0.53      0.52      0.52        31\n",
      "      500000       0.68      0.55      0.61        31\n",
      "     1000000       0.58      0.35      0.44        31\n",
      "\n",
      "    accuracy                           0.45       403\n",
      "   macro avg       0.47      0.45      0.44       403\n",
      "weighted avg       0.47      0.45      0.44       403\n",
      "\n"
     ]
    }
   ],
   "source": [
    "# train the model on train set \n",
    "lr2 = LogisticRegression() \n",
    "lr2.fit(X_trainm, y_trainm.ravel()) \n",
    "predictions = lr2.predict(X_trainm) \n",
    "  \n",
    "# print classification report \n",
    "print(classification_report(y_trainm, predictions))"
   ]
  },
  {
   "cell_type": "code",
   "execution_count": 28,
   "metadata": {},
   "outputs": [
    {
     "name": "stdout",
     "output_type": "stream",
     "text": [
      "              precision    recall  f1-score   support\n",
      "\n",
      "          -1       0.50      0.68      0.58        31\n",
      "       20000       0.47      0.97      0.63        31\n",
      "       30000       0.36      0.32      0.34        31\n",
      "       40000       0.18      0.35      0.24        31\n",
      "       50000       0.28      0.16      0.20        31\n",
      "       60000       0.28      0.29      0.29        31\n",
      "       70000       0.48      0.35      0.41        31\n",
      "       80000       0.22      0.29      0.25        31\n",
      "      100000       0.40      0.39      0.39        31\n",
      "      150000       0.42      0.45      0.44        31\n",
      "      250000       0.27      0.19      0.23        31\n",
      "      500000       0.67      0.06      0.12        31\n",
      "     1000000       1.00      0.19      0.32        31\n",
      "\n",
      "    accuracy                           0.36       403\n",
      "   macro avg       0.43      0.36      0.34       403\n",
      "weighted avg       0.43      0.36      0.34       403\n",
      "\n"
     ]
    }
   ],
   "source": [
    "knn_model = KNeighborsClassifier(n_neighbors = 5).fit(X_trainm, y_trainm) #entrenamiento\n",
    "knn_predictions = knn_model.predict(X_trainm) #prediccion\n",
    "print(classification_report(y_trainm, knn_predictions)) #eval del modelo"
   ]
  },
  {
   "cell_type": "code",
   "execution_count": 29,
   "metadata": {},
   "outputs": [
    {
     "name": "stdout",
     "output_type": "stream",
     "text": [
      "              precision    recall  f1-score   support\n",
      "\n",
      "          -1       0.47      0.90      0.62        31\n",
      "       20000       0.75      0.87      0.81        31\n",
      "       30000       0.49      0.77      0.60        31\n",
      "       40000       0.42      0.58      0.49        31\n",
      "       50000       0.55      0.35      0.43        31\n",
      "       60000       0.60      0.29      0.39        31\n",
      "       70000       0.52      0.52      0.52        31\n",
      "       80000       0.38      0.58      0.46        31\n",
      "      100000       0.50      0.45      0.47        31\n",
      "      150000       0.76      0.61      0.68        31\n",
      "      250000       0.86      0.61      0.72        31\n",
      "      500000       0.93      0.45      0.61        31\n",
      "     1000000       1.00      0.39      0.56        31\n",
      "\n",
      "    accuracy                           0.57       403\n",
      "   macro avg       0.63      0.57      0.57       403\n",
      "weighted avg       0.63      0.57      0.57       403\n",
      "\n"
     ]
    },
    {
     "data": {
      "text/plain": [
       "26"
      ]
     },
     "execution_count": 29,
     "metadata": {},
     "output_type": "execute_result"
    }
   ],
   "source": [
    "dt_model = DecisionTreeClassifier().fit(X_trainm, y_trainm) #entrenamiento\n",
    "dt_predictions = dt_model.predict(X_trainm) #prediccion\n",
    "print(classification_report(y_trainm, dt_predictions)) #eval modelo\n",
    "dt_model.get_depth() #profundidad"
   ]
  },
  {
   "cell_type": "code",
   "execution_count": 36,
   "metadata": {},
   "outputs": [],
   "source": [
    "oversample = RandomOverSampler(sampling_strategy='minority') \n",
    "X_to, y_to = oversample.fit_resample(X_train, Y_train)"
   ]
  },
  {
   "cell_type": "code",
   "execution_count": 38,
   "metadata": {},
   "outputs": [
    {
     "name": "stdout",
     "output_type": "stream",
     "text": [
      "              precision    recall  f1-score   support\n",
      "\n",
      "          -1       0.16      0.01      0.02     26278\n",
      "       20000       0.05      0.06      0.05      1942\n",
      "       30000       0.03      0.14      0.04       690\n",
      "       40000       0.01      0.03      0.02       624\n",
      "       50000       0.04      0.02      0.02       636\n",
      "       60000       0.02      0.08      0.04       474\n",
      "       70000       0.02      0.14      0.03       459\n",
      "       80000       0.02      0.06      0.03       715\n",
      "      100000       0.05      0.07      0.06      1048\n",
      "      150000       0.02      0.12      0.04       410\n",
      "      250000       0.01      0.29      0.02        98\n",
      "      500000       0.46      0.55      0.50     26278\n",
      "     1000000       0.01      0.16      0.02       317\n",
      "\n",
      "    accuracy                           0.26     59969\n",
      "   macro avg       0.07      0.13      0.07     59969\n",
      "weighted avg       0.28      0.26      0.24     59969\n",
      "\n"
     ]
    }
   ],
   "source": [
    "# train the model on train set \n",
    "lr3 = LogisticRegression() \n",
    "lr3.fit(X_to, y_to.ravel()) \n",
    "predictions = lr2.predict(X_to) \n",
    "  \n",
    "# print classification report \n",
    "print(classification_report(y_to, predictions))"
   ]
  },
  {
   "cell_type": "code",
   "execution_count": 39,
   "metadata": {},
   "outputs": [
    {
     "name": "stdout",
     "output_type": "stream",
     "text": [
      "              precision    recall  f1-score   support\n",
      "\n",
      "          -1       0.79      0.96      0.87     26278\n",
      "       20000       0.50      0.13      0.21      1942\n",
      "       30000       0.43      0.04      0.08       690\n",
      "       40000       0.54      0.02      0.05       624\n",
      "       50000       0.42      0.03      0.05       636\n",
      "       60000       0.29      0.00      0.01       474\n",
      "       70000       0.29      0.02      0.03       459\n",
      "       80000       0.45      0.01      0.02       715\n",
      "      100000       0.36      0.03      0.06      1048\n",
      "      150000       0.50      0.00      0.00       410\n",
      "      250000       0.00      0.00      0.00        98\n",
      "      500000       0.97      1.00      0.98     26278\n",
      "     1000000       0.56      0.02      0.03       317\n",
      "\n",
      "    accuracy                           0.87     59969\n",
      "   macro avg       0.47      0.17      0.18     59969\n",
      "weighted avg       0.82      0.87      0.82     59969\n",
      "\n"
     ]
    }
   ],
   "source": [
    "knn_model = KNeighborsClassifier(n_neighbors = 5).fit(X_to, y_to) #entrenamiento\n",
    "knn_predictions = knn_model.predict(X_to) #prediccion\n",
    "print(classification_report(y_to, knn_predictions)) #eval del modelo"
   ]
  },
  {
   "cell_type": "code",
   "execution_count": 41,
   "metadata": {},
   "outputs": [
    {
     "name": "stdout",
     "output_type": "stream",
     "text": [
      "              precision    recall  f1-score   support\n",
      "\n",
      "          -1       0.83      0.99      0.90     26278\n",
      "       20000       0.85      0.34      0.49      1942\n",
      "       30000       0.86      0.30      0.45       690\n",
      "       40000       0.87      0.27      0.42       624\n",
      "       50000       0.91      0.23      0.37       636\n",
      "       60000       0.93      0.19      0.32       474\n",
      "       70000       0.93      0.22      0.35       459\n",
      "       80000       0.93      0.23      0.36       715\n",
      "      100000       0.95      0.15      0.26      1048\n",
      "      150000       0.99      0.16      0.28       410\n",
      "      250000       1.00      0.13      0.23        98\n",
      "      500000       0.99      1.00      0.99     26278\n",
      "     1000000       0.98      0.30      0.46       317\n",
      "\n",
      "    accuracy                           0.90     59969\n",
      "   macro avg       0.92      0.35      0.45     59969\n",
      "weighted avg       0.91      0.90      0.88     59969\n",
      "\n"
     ]
    },
    {
     "data": {
      "text/plain": [
       "96"
      ]
     },
     "execution_count": 41,
     "metadata": {},
     "output_type": "execute_result"
    }
   ],
   "source": [
    "dt_model = DecisionTreeClassifier().fit(X_to, y_to) #entrenamiento\n",
    "dt_predictions = dt_model.predict(X_to) #prediccion\n",
    "print(classification_report(y_to, dt_predictions)) #eval modelo\n",
    "dt_model.get_depth() #profundidad"
   ]
  },
  {
   "cell_type": "code",
   "execution_count": 53,
   "metadata": {},
   "outputs": [
    {
     "name": "stdout",
     "output_type": "stream",
     "text": [
      "              precision    recall  f1-score   support\n",
      "\n",
      "          -1       0.82      0.96      0.88     26278\n",
      "       20000       0.84      0.28      0.42      1942\n",
      "       30000       0.84      0.21      0.33       690\n",
      "       40000       0.85      0.21      0.33       624\n",
      "       50000       0.87      0.16      0.27       636\n",
      "       60000       0.92      0.12      0.22       474\n",
      "       70000       0.93      0.16      0.28       459\n",
      "       80000       0.94      0.16      0.27       715\n",
      "      100000       0.94      0.11      0.20      1048\n",
      "      150000       0.98      0.10      0.18       410\n",
      "      250000       1.00      0.07      0.13        98\n",
      "      500000       0.95      1.00      0.97     26278\n",
      "     1000000       1.00      0.21      0.34       317\n",
      "\n",
      "    accuracy                           0.88     59969\n",
      "   macro avg       0.91      0.29      0.37     59969\n",
      "weighted avg       0.89      0.88      0.85     59969\n",
      "\n"
     ]
    }
   ],
   "source": [
    "cart_model20 = DecisionTreeClassifier(max_depth = 30).fit(X_to, y_to) \n",
    "cart_predictions20 = cart_model20.predict(X_to)\n",
    "print(classification_report(y_to, cart_predictions20))"
   ]
  },
  {
   "cell_type": "code",
   "execution_count": 43,
   "metadata": {},
   "outputs": [],
   "source": [
    "# Probando"
   ]
  },
  {
   "cell_type": "code",
   "execution_count": 54,
   "metadata": {},
   "outputs": [
    {
     "name": "stdout",
     "output_type": "stream",
     "text": [
      "              precision    recall  f1-score   support\n",
      "\n",
      "          -1       0.79      0.93      0.86     11361\n",
      "       20000       0.18      0.05      0.08       791\n",
      "       30000       0.05      0.01      0.02       260\n",
      "       40000       0.07      0.01      0.02       286\n",
      "       50000       0.02      0.00      0.01       255\n",
      "       60000       0.04      0.00      0.01       203\n",
      "       70000       0.03      0.01      0.01       198\n",
      "       80000       0.04      0.01      0.01       293\n",
      "      100000       0.09      0.01      0.02       449\n",
      "      150000       0.00      0.00      0.00       174\n",
      "      250000       0.00      0.00      0.00        30\n",
      "      500000       0.01      0.27      0.01        11\n",
      "     1000000       0.00      0.00      0.00       142\n",
      "\n",
      "    accuracy                           0.73     14453\n",
      "   macro avg       0.10      0.10      0.08     14453\n",
      "weighted avg       0.64      0.73      0.68     14453\n",
      "\n"
     ]
    }
   ],
   "source": [
    "rt_pV = cart_model20.predict(X_test) #prediccion con valores de prueba\n",
    "print(classification_report(Y_test, rt_pV))"
   ]
  },
  {
   "cell_type": "code",
   "execution_count": 55,
   "metadata": {},
   "outputs": [
    {
     "name": "stdout",
     "output_type": "stream",
     "text": [
      "[0.76236596 0.74922172 0.74576271 0.7449827  0.75017301]\n",
      "Baseline: 75.05% (0.20%)\n"
     ]
    }
   ],
   "source": [
    "results20 = cross_val_score(cart_model20, X_test, Y_test, cv=kfold, scoring='accuracy')\n",
    "\n",
    "print(results20)\n",
    "print(\"Baseline: %.2f%% (%.2f%%)\" % (results20.mean()*100, results.std()*100))"
   ]
  },
  {
   "cell_type": "code",
   "execution_count": 56,
   "metadata": {},
   "outputs": [
    {
     "data": {
      "image/png": "[encoded data removed]",
      "text/plain": [
       "<Figure size 720x504 with 2 Axes>"
      ]
     },
     "metadata": {
      "needs_background": "light"
     },
     "output_type": "display_data"
    }
   ],
   "source": [
    "final_cm = confusion_matrix(Y_test, rt_pV)\n",
    "knn_labels = cart_model20.classes_\n",
    "\n",
    "plt.figure(figsize=(10,7))\n",
    "\n",
    "ax= plt.subplot()\n",
    "sns.heatmap(final_cm, annot=True, ax = ax, fmt=\"d\");\n",
    "\n",
    "# labels, title and ticks\n",
    "ax.set_xlabel('Etiquetas predichas');\n",
    "ax.set_ylabel('Etiquetas verdaderas'); \n",
    "ax.set_title('Conf Matrix');\n",
    "ax.yaxis.set_tick_params(rotation=360)\n",
    "ax.xaxis.set_tick_params(rotation=90)\n",
    "\n",
    "ax.xaxis.set_ticklabels(knn_labels); \n",
    "ax.yaxis.set_ticklabels(knn_labels);"
   ]
  },
  {
   "cell_type": "code",
   "execution_count": 61,
   "metadata": {},
   "outputs": [
    {
     "name": "stdout",
     "output_type": "stream",
     "text": [
      "[    -1     -1     -1 ... 500000 500000 500000]\n"
     ]
    }
   ],
   "source": [
    "en = EditedNearestNeighbours() \n",
    "X_en, y_en = en.fit_resample(X_train, Y_train)\n",
    "print(y_en)"
   ]
  },
  {
   "cell_type": "code",
   "execution_count": 59,
   "metadata": {},
   "outputs": [
    {
     "name": "stdout",
     "output_type": "stream",
     "text": [
      "              precision    recall  f1-score   support\n",
      "\n",
      "          -1       0.99      0.02      0.03     14349\n",
      "       20000       0.00      0.00      0.00        36\n",
      "       30000       0.00      0.00      0.00         0\n",
      "       40000       0.00      0.00      0.00         0\n",
      "       50000       0.00      0.00      0.00         0\n",
      "       60000       0.00      0.00      0.00         0\n",
      "       70000       0.00      0.00      0.00         0\n",
      "       80000       0.00      0.00      0.00         1\n",
      "      100000       0.00      0.00      0.00         5\n",
      "      150000       0.00      0.00      0.00         0\n",
      "      250000       0.00      0.00      0.00         0\n",
      "      500000       0.00      0.55      0.00        31\n",
      "     1000000       0.00      0.00      0.00         0\n",
      "\n",
      "    accuracy                           0.02     14422\n",
      "   macro avg       0.08      0.04      0.00     14422\n",
      "weighted avg       0.99      0.02      0.03     14422\n",
      "\n"
     ]
    }
   ],
   "source": [
    "# train the model on train set \n",
    "lr4 = LogisticRegression() \n",
    "lr4.fit(X_en, y_en.ravel()) \n",
    "predictions = lr2.predict(X_en) \n",
    "  \n",
    "# print classification report \n",
    "print(classification_report(y_en, predictions))"
   ]
  },
  {
   "cell_type": "code",
   "execution_count": null,
   "metadata": {},
   "outputs": [],
   "source": []
  }
 ],
 "metadata": {
  "kernelspec": {
   "display_name": "Python 3",
   "language": "python",
   "name": "python3"
  },
  "language_info": {
   "codemirror_mode": {
    "name": "ipython",
    "version": 3
   },
   "file_extension": ".py",
   "mimetype": "text/x-python",
   "name": "python",
   "nbconvert_exporter": "python",
   "pygments_lexer": "ipython3",
   "version": "3.7.6"
  }
 },
 "nbformat": 4,
 "nbformat_minor": 4
}
